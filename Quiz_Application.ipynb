{
 "cells": [
  {
   "cell_type": "markdown",
   "id": "734ac9b0-7a4b-416a-b940-6acdab6a54c5",
   "metadata": {},
   "source": [
    "# Quiz Application\n",
    "### Mini Hackathon"
   ]
  },
  {
   "cell_type": "code",
   "execution_count": null,
   "id": "664a7745-3995-4ec4-8516-1560ce83c435",
   "metadata": {},
   "outputs": [],
   "source": []
  },
  {
   "cell_type": "code",
   "execution_count": 29,
   "id": "da49725f-0cc2-45dc-8084-c8a6f68e1715",
   "metadata": {},
   "outputs": [
    {
     "name": "stdout",
     "output_type": "stream",
     "text": [
      "Welcome to the Quiz Application, Python!\n"
     ]
    },
    {
     "name": "stdin",
     "output_type": "stream",
     "text": [
      "Are you ready for the quiZ!!!\n",
      " yes\n"
     ]
    },
    {
     "name": "stdout",
     "output_type": "stream",
     "text": [
      "Good Luck\n",
      "Q1 : What is the caplital of Pakistan?\n",
      "{'A': 'Lahore', 'B': 'Karachi', 'C': 'Islamabad'}\n"
     ]
    },
    {
     "name": "stdin",
     "output_type": "stream",
     "text": [
      "Select the best option :  C\n"
     ]
    },
    {
     "name": "stdout",
     "output_type": "stream",
     "text": [
      "CORRECT\n",
      "----------------------------------------\n",
      "Q2 : What is the capital of France?\n",
      "{'A': 'Berlin', 'B': 'Paris', 'C': 'Madrid'}\n"
     ]
    },
    {
     "name": "stdin",
     "output_type": "stream",
     "text": [
      "Select the best option :  B\n"
     ]
    },
    {
     "name": "stdout",
     "output_type": "stream",
     "text": [
      "CORRECT\n",
      "----------------------------------------\n",
      "Q3 : Which planet is known as the Red Planet?\n",
      "{'A': 'Mars', 'B': 'Earth', 'C': 'Venus'}\n"
     ]
    },
    {
     "name": "stdin",
     "output_type": "stream",
     "text": [
      "Select the best option :  A\n"
     ]
    },
    {
     "name": "stdout",
     "output_type": "stream",
     "text": [
      "CORRECT\n",
      "----------------------------------------\n",
      "Q4 : Who wrote “Romeo and Juliet?\n",
      "{'A': 'Charles Dickens', 'B': 'William Shakespeare', 'C': 'Mark Twain'}\n"
     ]
    },
    {
     "name": "stdin",
     "output_type": "stream",
     "text": [
      "Select the best option :  B\n"
     ]
    },
    {
     "name": "stdout",
     "output_type": "stream",
     "text": [
      "CORRECT\n",
      "----------------------------------------\n",
      "Q5 : What is the largest ocean on Earth?\n",
      "{'A': 'Atlantic Ocean', 'B': 'Indian Ocean', 'C': 'Pacific Ocean'}\n"
     ]
    },
    {
     "name": "stdin",
     "output_type": "stream",
     "text": [
      "Select the best option :  C\n"
     ]
    },
    {
     "name": "stdout",
     "output_type": "stream",
     "text": [
      "CORRECT\n",
      "----------------------------------------\n",
      "Q6 : Which element has the chemical symbol 'O'?\n",
      "{'A': 'Oxygen', 'B': 'Gold', 'C': 'Silver'}\n"
     ]
    },
    {
     "name": "stdin",
     "output_type": "stream",
     "text": [
      "Select the best option :  A\n"
     ]
    },
    {
     "name": "stdout",
     "output_type": "stream",
     "text": [
      "CORRECT\n",
      "----------------------------------------\n",
      "Q7 : Which gas do plants absorb from the atmosphere?\n",
      "{'A': 'O', 'B': 'CO2', 'C': 'N'}\n"
     ]
    },
    {
     "name": "stdin",
     "output_type": "stream",
     "text": [
      "Select the best option :  B\n"
     ]
    },
    {
     "name": "stdout",
     "output_type": "stream",
     "text": [
      "CORRECT\n",
      "----------------------------------------\n",
      "Q8 : What is the chemical formula for water?\n",
      "{'A': 'H2O', 'B': 'NaCl', 'C': 'HCL'}\n"
     ]
    },
    {
     "name": "stdin",
     "output_type": "stream",
     "text": [
      "Select the best option :  A\n"
     ]
    },
    {
     "name": "stdout",
     "output_type": "stream",
     "text": [
      "CORRECT\n",
      "----------------------------------------\n",
      "Q9 : Which country is known as the Land of the Rising Sun?\n",
      "{'A': 'China', 'B': 'Japan', 'C': 'Pakistan'}\n"
     ]
    },
    {
     "name": "stdin",
     "output_type": "stream",
     "text": [
      "Select the best option :  B\n"
     ]
    },
    {
     "name": "stdout",
     "output_type": "stream",
     "text": [
      "CORRECT\n",
      "----------------------------------------\n",
      "Q10 : What is the smallest prime number?\n",
      "{'A': '3', 'B': '2', 'C': '5'}\n"
     ]
    },
    {
     "name": "stdin",
     "output_type": "stream",
     "text": [
      "Select the best option :  B\n"
     ]
    },
    {
     "name": "stdout",
     "output_type": "stream",
     "text": [
      "CORRECT\n",
      "----------------------------------------\n",
      "########################################\n",
      "Your total score: 10\n",
      "########################################\n"
     ]
    }
   ],
   "source": [
    "def Quiz_Application(name):\n",
    "    print(f\"Welcome to the Quiz Application, {name}!\")\n",
    "    if name != 0:\n",
    "        user_input = input(\"Are you ready for the quiZ!!!\\n\")\n",
    "        if user_input == 'yes':\n",
    "            print(\"Good Luck\")\n",
    "             \n",
    "            # Initialize score\n",
    "            score = []\n",
    "        \n",
    "            #questions1\n",
    "            def question1(Q1):\n",
    "                question = Q1\n",
    "                print(f\"{Q1}\")\n",
    "                Options = { 'A' : 'Lahore', 'B' : 'Karachi', 'C' : 'Islamabad'}\n",
    "                print(f'{Options}')\n",
    "                selection = input('Select the best option : ')\n",
    "                if selection == 'C':\n",
    "                    print(\"CORRECT\")\n",
    "                    score.append(selection)\n",
    "                    print(\"-\" * 40)\n",
    "                else:\n",
    "                    print(\"WRONG\")\n",
    "\n",
    "            #question2\n",
    "            def question2(Q2):\n",
    "                question = Q2\n",
    "                print(f\"{Q2}\")\n",
    "                Options = { 'A' : 'Berlin', 'B' : 'Paris', 'C' : 'Madrid'}\n",
    "                print(f'{Options}')\n",
    "                selection = input('Select the best option : ')\n",
    "                if selection == 'B':\n",
    "                    print(\"CORRECT\")\n",
    "                    score.append(selection)\n",
    "                    print(\"-\" * 40)\n",
    "                else:\n",
    "                    print(\"WRONG\")\n",
    "                    \n",
    "            #question3\n",
    "            def question3(Q3):\n",
    "                question = Q3\n",
    "                print(f\"{Q3}\")\n",
    "                Options = { 'A' : 'Mars', 'B' : 'Earth', 'C' : 'Venus'}\n",
    "                print(f'{Options}')\n",
    "                selection = input('Select the best option : ')\n",
    "                if selection == 'A':\n",
    "                    print(\"CORRECT\")\n",
    "                    score.append(selection)\n",
    "                    print(\"-\" * 40)\n",
    "                else:\n",
    "                    print(\"WRONG\")\n",
    "\n",
    "            #question4\n",
    "            def question4(Q4):\n",
    "                question = Q4\n",
    "                print(f\"{Q4}\")\n",
    "                Options = { 'A' : 'Charles Dickens', 'B' : 'William Shakespeare', 'C' : 'Mark Twain'}\n",
    "                print(f'{Options}')\n",
    "                selection = input('Select the best option : ')\n",
    "                if selection == 'B':\n",
    "                    print(\"CORRECT\")\n",
    "                    score.append(selection)\n",
    "                    print(\"-\" * 40)\n",
    "                else:\n",
    "                    print(\"WRONG\")\n",
    "\n",
    "             #question5\n",
    "            def question5(Q5):\n",
    "                 question = Q5\n",
    "                 print(f\"{Q5}\")\n",
    "                 Options = { 'A' : 'Atlantic Ocean', 'B' : 'Indian Ocean', 'C' : 'Pacific Ocean'}\n",
    "                 print(f'{Options}')\n",
    "                 selection = input('Select the best option : ')\n",
    "                 if selection == 'C':\n",
    "                     print(\"CORRECT\")\n",
    "                     score.append(selection)\n",
    "                     print(\"-\" * 40)\n",
    "                 else:\n",
    "                     print(\"WRONG\")\n",
    "\n",
    "              #question6\n",
    "            def question6(Q6):\n",
    "                question = Q6\n",
    "                print(f\"{Q6}\")\n",
    "                Options = { 'A' : 'Oxygen', 'B' : 'Gold', 'C' : 'Silver'}\n",
    "                print(f'{Options}')\n",
    "                selection = input('Select the best option : ')\n",
    "                if selection == 'A':\n",
    "                    print(\"CORRECT\")\n",
    "                    score.append(selection)\n",
    "                    print(\"-\" * 40)\n",
    "                else:\n",
    "                    print(\"WRONG\")\n",
    "        # #question7 \n",
    "            def question7(Q7):\n",
    "                question = Q7\n",
    "                print(f\"{Q7}\")\n",
    "                Options = { 'A' : 'O', 'B' : 'CO2', 'C' : 'N'}\n",
    "                print(f'{Options}')\n",
    "                selection = input('Select the best option : ')\n",
    "                if selection == 'B':\n",
    "                    print(\"CORRECT\")\n",
    "                    score.append(selection)\n",
    "                    print(\"-\" * 40)\n",
    "                else:\n",
    "                    print(\"WRONG\")\n",
    "\n",
    "          # #question8\n",
    "            def question8(Q8):\n",
    "                question = Q8\n",
    "                print(f\"{Q8}\")\n",
    "                Options = { 'A' : 'H2O', 'B' : 'NaCl', 'C' : 'HCL'}\n",
    "                print(f'{Options}')\n",
    "                selection = input('Select the best option : ')\n",
    "                if selection == 'A':\n",
    "                    print(\"CORRECT\")\n",
    "                    score.append(selection)\n",
    "                    print(\"-\" * 40)\n",
    "                else:\n",
    "                    print(\"WRONG\")\n",
    "\n",
    "            #question9\n",
    "            def question9(Q9):\n",
    "                question = Q9\n",
    "                print(f\"{Q9}\")\n",
    "                Options = { 'A' : 'China', 'B' : 'Japan', 'C' : 'Pakistan'}\n",
    "                print(f'{Options}')\n",
    "                selection = input('Select the best option : ')\n",
    "                if selection == 'B':\n",
    "                    print(\"CORRECT\")\n",
    "                    score.append(selection)\n",
    "                    print(\"-\" * 40)\n",
    "                else:\n",
    "                    print(\"WRONG\")\n",
    "\n",
    "            #question10\n",
    "            def question10(Q10):\n",
    "                question = Q10\n",
    "                print(f\"{Q10}\")\n",
    "                Options = { 'A' : '3', 'B' : '2', 'C' : '5'}\n",
    "                print(f'{Options}')\n",
    "                selection = input('Select the best option : ')\n",
    "                if selection == 'B':\n",
    "                    print(\"CORRECT\")\n",
    "                    score.append(selection)\n",
    "                    print(\"-\" * 40)\n",
    "                else:\n",
    "                    print(\"WRONG\")\n",
    "            \n",
    "            question1('Q1 : What is the caplital of Pakistan?')\n",
    "            question2('Q2 : What is the capital of France?')\n",
    "            question3('Q3 : Which planet is known as the Red Planet?')\n",
    "            question4('Q4 : Who wrote “Romeo and Juliet?')\n",
    "            question5('Q5 : What is the largest ocean on Earth?')\n",
    "            question6(\"Q6 : Which element has the chemical symbol 'O'?\")\n",
    "            question7('Q7 : Which gas do plants absorb from the atmosphere?')\n",
    "            question8('Q8 : What is the chemical formula for water?')\n",
    "            question9('Q9 : Which country is known as the Land of the Rising Sun?')\n",
    "            question10('Q10 : What is the smallest prime number?')\n",
    "            print(\"#\" * 40)\n",
    "            \n",
    "            print(f\"Your total score: {len(score)}\")\n",
    "\n",
    "            print(\"#\" * 40)\n",
    "        \n",
    "        else:\n",
    "            print(\"Thanks for visiting!!!\")\n",
    "    else:\n",
    "        print(\"Invalid name provided!\")\n",
    "        \n",
    "Quiz_Application('Python')\n"
   ]
  },
  {
   "cell_type": "code",
   "execution_count": null,
   "id": "3c7a6c78-1dc6-4199-ad92-be92ec159a65",
   "metadata": {},
   "outputs": [],
   "source": []
  }
 ],
 "metadata": {
  "kernelspec": {
   "display_name": "Python 3 (ipykernel)",
   "language": "python",
   "name": "python3"
  },
  "language_info": {
   "codemirror_mode": {
    "name": "ipython",
    "version": 3
   },
   "file_extension": ".py",
   "mimetype": "text/x-python",
   "name": "python",
   "nbconvert_exporter": "python",
   "pygments_lexer": "ipython3",
   "version": "3.12.4"
  }
 },
 "nbformat": 4,
 "nbformat_minor": 5
}
